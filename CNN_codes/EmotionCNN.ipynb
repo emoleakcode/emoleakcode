{
 "cells": [
  {
   "cell_type": "markdown",
   "metadata": {},
   "source": [
    "Import important libraries"
   ]
  },
  {
   "cell_type": "code",
   "execution_count": 17,
   "metadata": {},
   "outputs": [],
   "source": [
    "import numpy as np\n",
    "from keras import layers\n",
    "from keras.layers import Input, Dense, Activation, ZeroPadding2D, BatchNormalization, Flatten, Conv2D\n",
    "from keras.layers import AveragePooling2D, MaxPooling2D, Dropout, GlobalMaxPooling2D, GlobalAveragePooling2D\n",
    "from keras.models import Model\n",
    "from keras.models import Sequential\n",
    "from keras.preprocessing import image\n",
    "from keras.utils import layer_utils\n",
    "from keras.utils.data_utils import get_file\n",
    "from keras.applications.imagenet_utils import preprocess_input\n",
    "import pydot\n",
    "from IPython.display import SVG\n",
    "from keras.utils.vis_utils import model_to_dot\n",
    "from tensorflow.python.keras import regularizers\n",
    "from keras.utils import plot_model\n",
    "from kt_utils import *\n",
    "from cnn_utils import *\n",
    "from keras.utils.vis_utils import plot_model\n",
    "\n",
    "import keras.backend as K\n",
    "K.set_image_data_format('channels_last')\n",
    "import matplotlib.pyplot as plt\n",
    "from matplotlib.pyplot import imshow\n",
    "\n",
    "%matplotlib inline"
   ]
  },
  {
   "cell_type": "code",
   "execution_count": 18,
   "metadata": {},
   "outputs": [],
   "source": [
    "def load_data():  \n",
    "    train_dataset = h5py.File('spec_train.h5', \"r\")  \n",
    "    #print(np.array(train_dataset))\n",
    "    train_set_x_orig = np.array(train_dataset[\"train_image\"][:]) # your train set features  \n",
    "    train_set_y_orig = np.array(train_dataset[\"train_labels_key\"][:]) # your train set labels \n",
    "    train_set_y_orig_1=train_set_y_orig.reshape((1, train_set_y_orig.shape[0]))\n",
    "    test_dataset = h5py.File('spec_test.h5', \"r\")  \n",
    "    test_set_x_orig = np.array(test_dataset[\"test_image\"][:]) # your test set features  \n",
    "    test_set_y_orig = np.array(test_dataset[\"test_labels_key\"][:]) # your test set labels \n",
    "    test_set_y_orig_1=test_set_y_orig.reshape((1, test_set_y_orig.shape[0]))\n",
    "    classes = np.array(test_dataset[\"classes\"][:]) # the list of classes  \n",
    "\n",
    "    return train_set_x_orig, train_set_y_orig_1, test_set_x_orig, test_set_y_orig_1, classes  \n"
   ]
  },
  {
   "cell_type": "code",
   "execution_count": 19,
   "metadata": {},
   "outputs": [
    {
     "name": "stdout",
     "output_type": "stream",
     "text": [
      "number of training examples = 360\n",
      "number of test examples = 120\n",
      "X_train shape: (360, 32, 32, 3)\n",
      "Y_train shape: (360, 7)\n",
      "X_test shape: (120, 32, 32, 3)\n",
      "Y_test shape: (120, 7)\n"
     ]
    }
   ],
   "source": [
    "X_train_orig, Y_train_orig, X_test_orig, Y_test_orig, classes = load_data()\n",
    "\n",
    "Y_train_orig=np.int8(Y_train_orig)\n",
    "Y_test_orig=np.int8(Y_test_orig)\n",
    "\n",
    "X_train = X_train_orig/255.\n",
    "X_test = X_test_orig/255.\n",
    "#print(Y_train_orig.reshape(-1))\n",
    "test=np.eye(7)[Y_train_orig.reshape(-1)].T\n",
    "#print(test)\n",
    "Y_train = convert_to_one_hot(Y_train_orig.astype(int), 7).T\n",
    "Y_test = convert_to_one_hot(Y_test_orig.astype(int), 7).T\n",
    "print (\"number of training examples = \" + str(X_train.shape[0]))\n",
    "print (\"number of test examples = \" + str(X_test.shape[0]))\n",
    "print (\"X_train shape: \" + str(X_train.shape))\n",
    "print (\"Y_train shape: \" + str(Y_train.shape))\n",
    "print (\"X_test shape: \" + str(X_test.shape))\n",
    "print (\"Y_test shape: \" + str(Y_test.shape))"
   ]
  },
  {
   "cell_type": "code",
   "execution_count": 20,
   "metadata": {},
   "outputs": [
    {
     "name": "stdout",
     "output_type": "stream",
     "text": [
      "y = 4\n"
     ]
    },
    {
     "data": {
      "image/png": "[encoded data removed]",
      "text/plain": [
       "<Figure size 432x288 with 1 Axes>"
      ]
     },
     "metadata": {
      "needs_background": "light"
     },
     "output_type": "display_data"
    }
   ],
   "source": [
    "# Example of a picture\n",
    "index = 9\n",
    "plt.imshow(X_train_orig[index])\n",
    "print (\"y = \" + str(np.squeeze(Y_train_orig[:, index])))"
   ]
  },
  {
   "cell_type": "code",
   "execution_count": 21,
   "metadata": {},
   "outputs": [],
   "source": [
    "def SpeechModel(input_shape):\n",
    "    \n",
    "    \n",
    "    model = Sequential()\n",
    "    model.add(Conv2D(128, (1, 1), input_shape=input_shape))\n",
    "    model.add(Activation('relu'))\n",
    "    model.add(Dropout(0.2))\n",
    "    model.add(MaxPooling2D(pool_size=(2, 2)))\n",
    "    \n",
    "   \n",
    "\n",
    "    model.add(Conv2D(128, (1, 1)))\n",
    "    model.add(Activation('relu'))\n",
    "    model.add(Dropout(0.2))\n",
    "    model.add(MaxPooling2D(pool_size=(2, 2)))\n",
    "    \n",
    "\n",
    "    model.add(Conv2D(64, (1, 1)))\n",
    "    model.add(Activation('relu'))\n",
    "    model.add(Dropout(0.2))\n",
    "    model.add(MaxPooling2D(pool_size=(2, 2)))\n",
    "    \n",
    "\n",
    "    model.add(Flatten())\n",
    "   \n",
    "    \n",
    "    model.add(Dense(32))\n",
    "    model.add(Activation('relu'))\n",
    "    #model.add(Dropout(0.2))\n",
    "\n",
    "    model.add(Dense(32))\n",
    "    model.add(Activation('relu'))\n",
    "    model.add(Dropout(0.25))\n",
    "    \n",
    "    model.add(Dense(7))\n",
    "    model.add(Activation('softmax'))\n",
    "    \n",
    "    ### END CODE HERE ###\n",
    "    \n",
    "    return model"
   ]
  },
  {
   "cell_type": "code",
   "execution_count": 22,
   "metadata": {},
   "outputs": [],
   "source": [
    "speechModel = SpeechModel((32,32,3))"
   ]
  },
  {
   "cell_type": "code",
   "execution_count": 23,
   "metadata": {},
   "outputs": [],
   "source": [
    "#plot_model(speechModel, to_file='model_plot.png', show_shapes=True, show_layer_names=True)"
   ]
  },
  {
   "cell_type": "code",
   "execution_count": 24,
   "metadata": {},
   "outputs": [],
   "source": [
    "speechModel.compile(optimizer = \"adam\",loss = \"categorical_crossentropy\",metrics = [\"accuracy\"])"
   ]
  },
  {
   "cell_type": "code",
   "execution_count": 25,
   "metadata": {},
   "outputs": [
    {
     "name": "stdout",
     "output_type": "stream",
     "text": [
      "Train on 324 samples, validate on 36 samples\n",
      "Epoch 1/150\n",
      "324/324 [==============================] - 1s 2ms/step - loss: 1.9442 - accuracy: 0.2099 - val_loss: 1.9279 - val_accuracy: 0.2500\n",
      "Epoch 2/150\n",
      "324/324 [==============================] - 0s 1ms/step - loss: 1.9301 - accuracy: 0.2469 - val_loss: 1.9132 - val_accuracy: 0.2500\n",
      "Epoch 3/150\n",
      "324/324 [==============================] - 1s 2ms/step - loss: 1.9237 - accuracy: 0.2469 - val_loss: 1.9214 - val_accuracy: 0.2500\n",
      "Epoch 4/150\n",
      "324/324 [==============================] - 1s 2ms/step - loss: 1.9150 - accuracy: 0.2500 - val_loss: 1.9084 - val_accuracy: 0.2500\n",
      "Epoch 5/150\n",
      "324/324 [==============================] - 1s 2ms/step - loss: 1.9026 - accuracy: 0.2623 - val_loss: 1.8930 - val_accuracy: 0.2500\n",
      "Epoch 6/150\n",
      "324/324 [==============================] - 1s 3ms/step - loss: 1.8905 - accuracy: 0.2593 - val_loss: 1.8819 - val_accuracy: 0.2500\n",
      "Epoch 7/150\n",
      "324/324 [==============================] - 1s 2ms/step - loss: 1.8500 - accuracy: 0.2685 - val_loss: 1.8369 - val_accuracy: 0.2778\n",
      "Epoch 8/150\n",
      "324/324 [==============================] - 1s 2ms/step - loss: 1.8110 - accuracy: 0.2809 - val_loss: 1.8306 - val_accuracy: 0.3056\n",
      "Epoch 9/150\n",
      "324/324 [==============================] - 0s 2ms/step - loss: 1.8159 - accuracy: 0.2778 - val_loss: 1.8006 - val_accuracy: 0.2778\n",
      "Epoch 10/150\n",
      "324/324 [==============================] - 0s 2ms/step - loss: 1.7645 - accuracy: 0.2809 - val_loss: 1.7561 - val_accuracy: 0.3611\n",
      "Epoch 11/150\n",
      "324/324 [==============================] - 0s 1ms/step - loss: 1.6994 - accuracy: 0.3148 - val_loss: 1.7190 - val_accuracy: 0.3056\n",
      "Epoch 12/150\n",
      "324/324 [==============================] - 0s 1ms/step - loss: 1.7046 - accuracy: 0.3364 - val_loss: 1.6664 - val_accuracy: 0.3333\n",
      "Epoch 13/150\n",
      "324/324 [==============================] - 0s 1ms/step - loss: 1.6497 - accuracy: 0.3488 - val_loss: 1.7184 - val_accuracy: 0.4444\n",
      "Epoch 14/150\n",
      "324/324 [==============================] - 1s 2ms/step - loss: 1.6623 - accuracy: 0.3580 - val_loss: 1.6274 - val_accuracy: 0.4444\n",
      "Epoch 15/150\n",
      "324/324 [==============================] - 1s 2ms/step - loss: 1.6143 - accuracy: 0.3519 - val_loss: 1.6101 - val_accuracy: 0.4444\n",
      "Epoch 16/150\n",
      "324/324 [==============================] - 1s 2ms/step - loss: 1.5945 - accuracy: 0.3673 - val_loss: 1.6209 - val_accuracy: 0.4444\n",
      "Epoch 17/150\n",
      "324/324 [==============================] - 1s 2ms/step - loss: 1.5630 - accuracy: 0.3735 - val_loss: 1.5978 - val_accuracy: 0.3889\n",
      "Epoch 18/150\n",
      "324/324 [==============================] - 0s 1ms/step - loss: 1.5197 - accuracy: 0.3642 - val_loss: 1.5976 - val_accuracy: 0.4167\n",
      "Epoch 19/150\n",
      "324/324 [==============================] - 0s 2ms/step - loss: 1.4939 - accuracy: 0.4259 - val_loss: 1.6086 - val_accuracy: 0.4444\n",
      "Epoch 20/150\n",
      "324/324 [==============================] - 0s 2ms/step - loss: 1.4552 - accuracy: 0.4105 - val_loss: 1.5710 - val_accuracy: 0.4444\n",
      "Epoch 21/150\n",
      "324/324 [==============================] - 1s 2ms/step - loss: 1.4882 - accuracy: 0.4259 - val_loss: 1.5534 - val_accuracy: 0.5000\n",
      "Epoch 22/150\n",
      "324/324 [==============================] - 1s 2ms/step - loss: 1.4508 - accuracy: 0.4198 - val_loss: 1.5861 - val_accuracy: 0.3611\n",
      "Epoch 23/150\n",
      "324/324 [==============================] - 1s 2ms/step - loss: 1.4286 - accuracy: 0.4475 - val_loss: 1.5274 - val_accuracy: 0.4444\n",
      "Epoch 24/150\n",
      "324/324 [==============================] - 1s 2ms/step - loss: 1.4516 - accuracy: 0.4383 - val_loss: 1.5739 - val_accuracy: 0.4167\n",
      "Epoch 25/150\n",
      "324/324 [==============================] - 1s 2ms/step - loss: 1.3346 - accuracy: 0.5062 - val_loss: 1.5222 - val_accuracy: 0.4444\n",
      "Epoch 26/150\n",
      "324/324 [==============================] - 0s 2ms/step - loss: 1.3532 - accuracy: 0.4784 - val_loss: 1.5470 - val_accuracy: 0.4167\n",
      "Epoch 27/150\n",
      "324/324 [==============================] - 1s 2ms/step - loss: 1.3807 - accuracy: 0.4784 - val_loss: 1.5146 - val_accuracy: 0.3889\n",
      "Epoch 28/150\n",
      "324/324 [==============================] - 1s 2ms/step - loss: 1.3613 - accuracy: 0.4722 - val_loss: 1.5344 - val_accuracy: 0.4167\n",
      "Epoch 29/150\n",
      "324/324 [==============================] - 1s 2ms/step - loss: 1.2779 - accuracy: 0.4877 - val_loss: 1.5598 - val_accuracy: 0.3611\n",
      "Epoch 30/150\n",
      "324/324 [==============================] - 1s 2ms/step - loss: 1.3223 - accuracy: 0.4846 - val_loss: 1.6219 - val_accuracy: 0.3889\n",
      "Epoch 31/150\n",
      "324/324 [==============================] - 1s 2ms/step - loss: 1.3845 - accuracy: 0.4599 - val_loss: 1.5546 - val_accuracy: 0.3611\n",
      "Epoch 32/150\n",
      "324/324 [==============================] - 1s 2ms/step - loss: 1.2799 - accuracy: 0.4753 - val_loss: 1.5571 - val_accuracy: 0.2778\n",
      "Epoch 33/150\n",
      "324/324 [==============================] - 1s 2ms/step - loss: 1.2202 - accuracy: 0.5185 - val_loss: 1.5374 - val_accuracy: 0.3889\n",
      "Epoch 34/150\n",
      "324/324 [==============================] - 1s 2ms/step - loss: 1.2266 - accuracy: 0.4907 - val_loss: 1.5466 - val_accuracy: 0.3611\n",
      "Epoch 35/150\n",
      "324/324 [==============================] - 1s 2ms/step - loss: 1.2058 - accuracy: 0.5340 - val_loss: 1.5460 - val_accuracy: 0.3333\n",
      "Epoch 36/150\n",
      "324/324 [==============================] - 0s 2ms/step - loss: 1.1402 - accuracy: 0.5340 - val_loss: 1.5875 - val_accuracy: 0.3889\n",
      "Epoch 37/150\n",
      "324/324 [==============================] - 0s 1ms/step - loss: 1.1758 - accuracy: 0.5247 - val_loss: 1.6143 - val_accuracy: 0.3333\n",
      "Epoch 38/150\n",
      "324/324 [==============================] - 0s 1ms/step - loss: 1.1775 - accuracy: 0.5432 - val_loss: 1.5732 - val_accuracy: 0.3611\n",
      "Epoch 39/150\n",
      "324/324 [==============================] - 0s 1ms/step - loss: 1.1529 - accuracy: 0.5710 - val_loss: 1.5722 - val_accuracy: 0.3611\n",
      "Epoch 40/150\n",
      "324/324 [==============================] - 0s 1ms/step - loss: 1.1116 - accuracy: 0.5741 - val_loss: 1.5684 - val_accuracy: 0.3611\n",
      "Epoch 41/150\n",
      "324/324 [==============================] - 0s 1ms/step - loss: 1.1474 - accuracy: 0.5679 - val_loss: 1.6030 - val_accuracy: 0.3333\n",
      "Epoch 42/150\n",
      "324/324 [==============================] - 0s 1ms/step - loss: 1.1089 - accuracy: 0.5833 - val_loss: 1.5250 - val_accuracy: 0.3333\n",
      "Epoch 43/150\n",
      "324/324 [==============================] - 0s 1ms/step - loss: 1.1308 - accuracy: 0.5432 - val_loss: 1.5661 - val_accuracy: 0.3056\n",
      "Epoch 44/150\n",
      "324/324 [==============================] - 0s 1ms/step - loss: 1.0514 - accuracy: 0.6389 - val_loss: 1.5570 - val_accuracy: 0.3889\n",
      "Epoch 45/150\n",
      "324/324 [==============================] - 0s 1ms/step - loss: 1.0229 - accuracy: 0.6235 - val_loss: 1.5805 - val_accuracy: 0.3333\n",
      "Epoch 46/150\n",
      "324/324 [==============================] - 0s 1ms/step - loss: 1.0048 - accuracy: 0.6019 - val_loss: 1.5810 - val_accuracy: 0.3889\n",
      "Epoch 47/150\n",
      "324/324 [==============================] - 0s 1ms/step - loss: 0.9832 - accuracy: 0.6080 - val_loss: 1.6499 - val_accuracy: 0.3333\n",
      "Epoch 48/150\n",
      "324/324 [==============================] - 0s 1ms/step - loss: 1.0264 - accuracy: 0.6019 - val_loss: 1.5826 - val_accuracy: 0.3333\n",
      "Epoch 49/150\n",
      "324/324 [==============================] - 0s 2ms/step - loss: 1.0094 - accuracy: 0.6142 - val_loss: 1.6253 - val_accuracy: 0.3056\n",
      "Epoch 50/150\n",
      "324/324 [==============================] - 0s 2ms/step - loss: 0.9324 - accuracy: 0.6389 - val_loss: 1.6081 - val_accuracy: 0.3056\n",
      "Epoch 51/150\n",
      "324/324 [==============================] - 0s 1ms/step - loss: 0.8971 - accuracy: 0.6636 - val_loss: 1.5867 - val_accuracy: 0.3611\n",
      "Epoch 52/150\n",
      "324/324 [==============================] - 0s 1ms/step - loss: 0.8957 - accuracy: 0.6327 - val_loss: 1.6253 - val_accuracy: 0.3611\n",
      "Epoch 53/150\n",
      "324/324 [==============================] - 0s 1ms/step - loss: 0.9099 - accuracy: 0.6481 - val_loss: 1.6126 - val_accuracy: 0.3333\n",
      "Epoch 54/150\n",
      "324/324 [==============================] - 0s 1ms/step - loss: 0.8820 - accuracy: 0.6605 - val_loss: 1.6917 - val_accuracy: 0.3056\n",
      "Epoch 55/150\n",
      "324/324 [==============================] - 0s 1ms/step - loss: 0.9130 - accuracy: 0.6358 - val_loss: 1.7914 - val_accuracy: 0.2778\n",
      "Epoch 56/150\n",
      "324/324 [==============================] - 0s 1ms/step - loss: 0.8793 - accuracy: 0.6512 - val_loss: 1.6602 - val_accuracy: 0.3889\n",
      "Epoch 57/150\n",
      "324/324 [==============================] - 0s 1ms/step - loss: 0.8685 - accuracy: 0.6667 - val_loss: 1.6652 - val_accuracy: 0.2778\n",
      "Epoch 58/150\n",
      "324/324 [==============================] - 0s 1ms/step - loss: 0.8268 - accuracy: 0.6636 - val_loss: 1.6764 - val_accuracy: 0.3611\n",
      "Epoch 59/150\n",
      "324/324 [==============================] - 0s 1ms/step - loss: 0.8049 - accuracy: 0.7099 - val_loss: 1.7125 - val_accuracy: 0.3056\n",
      "Epoch 60/150\n",
      "324/324 [==============================] - 0s 1ms/step - loss: 0.8770 - accuracy: 0.6574 - val_loss: 1.7679 - val_accuracy: 0.2778\n",
      "Epoch 61/150\n",
      "324/324 [==============================] - 0s 1ms/step - loss: 0.8503 - accuracy: 0.6728 - val_loss: 1.7056 - val_accuracy: 0.3333\n",
      "Epoch 62/150\n",
      "324/324 [==============================] - 0s 1ms/step - loss: 0.8218 - accuracy: 0.7006 - val_loss: 1.6778 - val_accuracy: 0.3611\n",
      "Epoch 63/150\n",
      "324/324 [==============================] - 0s 1ms/step - loss: 0.8319 - accuracy: 0.6883 - val_loss: 1.6986 - val_accuracy: 0.3889\n",
      "Epoch 64/150\n",
      "324/324 [==============================] - 0s 1ms/step - loss: 0.7992 - accuracy: 0.6914 - val_loss: 1.7163 - val_accuracy: 0.3056\n",
      "Epoch 65/150\n",
      "324/324 [==============================] - 0s 1ms/step - loss: 0.8314 - accuracy: 0.6512 - val_loss: 1.8411 - val_accuracy: 0.3056\n",
      "Epoch 66/150\n",
      "324/324 [==============================] - 0s 1ms/step - loss: 0.8154 - accuracy: 0.6821 - val_loss: 1.7830 - val_accuracy: 0.3333\n",
      "Epoch 67/150\n",
      "324/324 [==============================] - 0s 1ms/step - loss: 0.8471 - accuracy: 0.6883 - val_loss: 1.6987 - val_accuracy: 0.3611\n",
      "Epoch 68/150\n",
      "324/324 [==============================] - 0s 1ms/step - loss: 0.7587 - accuracy: 0.7253 - val_loss: 1.7449 - val_accuracy: 0.3333\n",
      "Epoch 69/150\n",
      "324/324 [==============================] - 0s 1ms/step - loss: 0.7573 - accuracy: 0.6821 - val_loss: 1.8706 - val_accuracy: 0.3056\n",
      "Epoch 70/150\n",
      "324/324 [==============================] - 0s 1ms/step - loss: 0.7807 - accuracy: 0.6667 - val_loss: 1.7878 - val_accuracy: 0.3056\n",
      "Epoch 71/150\n",
      "324/324 [==============================] - 0s 1ms/step - loss: 0.7924 - accuracy: 0.6975 - val_loss: 1.7257 - val_accuracy: 0.3611\n",
      "Epoch 72/150\n",
      "324/324 [==============================] - 0s 1ms/step - loss: 0.7972 - accuracy: 0.7130 - val_loss: 1.7135 - val_accuracy: 0.2778\n",
      "Epoch 73/150\n",
      "324/324 [==============================] - 0s 1ms/step - loss: 0.8849 - accuracy: 0.6759 - val_loss: 1.7128 - val_accuracy: 0.3056\n",
      "Epoch 74/150\n",
      "324/324 [==============================] - 0s 1ms/step - loss: 0.7604 - accuracy: 0.7253 - val_loss: 1.7939 - val_accuracy: 0.4167\n",
      "Epoch 75/150\n",
      "324/324 [==============================] - 0s 1ms/step - loss: 0.7747 - accuracy: 0.6975 - val_loss: 1.7967 - val_accuracy: 0.3056\n",
      "Epoch 76/150\n",
      "324/324 [==============================] - 0s 1ms/step - loss: 0.6476 - accuracy: 0.7531 - val_loss: 1.9085 - val_accuracy: 0.3333\n",
      "Epoch 77/150\n",
      "324/324 [==============================] - 0s 1ms/step - loss: 0.7440 - accuracy: 0.7160 - val_loss: 1.8121 - val_accuracy: 0.2778\n",
      "Epoch 78/150\n",
      "324/324 [==============================] - 0s 1ms/step - loss: 0.7203 - accuracy: 0.7407 - val_loss: 1.8521 - val_accuracy: 0.2778\n",
      "Epoch 79/150\n",
      "324/324 [==============================] - 0s 1ms/step - loss: 0.6734 - accuracy: 0.7346 - val_loss: 1.8770 - val_accuracy: 0.3889\n",
      "Epoch 80/150\n",
      "324/324 [==============================] - 0s 1ms/step - loss: 0.7229 - accuracy: 0.7160 - val_loss: 1.8319 - val_accuracy: 0.3056\n",
      "Epoch 81/150\n",
      "324/324 [==============================] - 0s 1ms/step - loss: 0.6986 - accuracy: 0.7469 - val_loss: 1.9165 - val_accuracy: 0.3889\n",
      "Epoch 82/150\n",
      "324/324 [==============================] - 0s 2ms/step - loss: 0.7287 - accuracy: 0.7160 - val_loss: 1.8669 - val_accuracy: 0.4167\n",
      "Epoch 83/150\n",
      "324/324 [==============================] - 0s 1ms/step - loss: 0.6269 - accuracy: 0.7593 - val_loss: 1.8411 - val_accuracy: 0.3333\n",
      "Epoch 84/150\n",
      "324/324 [==============================] - 0s 1ms/step - loss: 0.6329 - accuracy: 0.7623 - val_loss: 2.0631 - val_accuracy: 0.3333\n",
      "Epoch 85/150\n",
      "324/324 [==============================] - 0s 1ms/step - loss: 0.6293 - accuracy: 0.7562 - val_loss: 1.9202 - val_accuracy: 0.3333\n",
      "Epoch 86/150\n",
      "324/324 [==============================] - 0s 1ms/step - loss: 0.6232 - accuracy: 0.7623 - val_loss: 1.9700 - val_accuracy: 0.3056\n",
      "Epoch 87/150\n",
      "324/324 [==============================] - 0s 1ms/step - loss: 0.5870 - accuracy: 0.7963 - val_loss: 1.9950 - val_accuracy: 0.2778\n",
      "Epoch 88/150\n",
      "324/324 [==============================] - 0s 1ms/step - loss: 0.5745 - accuracy: 0.7870 - val_loss: 2.0406 - val_accuracy: 0.3333\n",
      "Epoch 89/150\n",
      "324/324 [==============================] - 0s 1ms/step - loss: 0.5739 - accuracy: 0.7870 - val_loss: 2.0479 - val_accuracy: 0.3611\n",
      "Epoch 90/150\n",
      "324/324 [==============================] - 0s 1ms/step - loss: 0.6112 - accuracy: 0.7623 - val_loss: 1.9649 - val_accuracy: 0.2778\n",
      "Epoch 91/150\n",
      "324/324 [==============================] - 0s 1ms/step - loss: 0.6209 - accuracy: 0.7438 - val_loss: 1.9834 - val_accuracy: 0.3056\n",
      "Epoch 92/150\n",
      "324/324 [==============================] - 0s 1ms/step - loss: 0.6062 - accuracy: 0.7438 - val_loss: 1.9951 - val_accuracy: 0.3889\n",
      "Epoch 93/150\n",
      "324/324 [==============================] - 1s 2ms/step - loss: 0.6012 - accuracy: 0.7778 - val_loss: 2.1421 - val_accuracy: 0.3889\n",
      "Epoch 94/150\n",
      "324/324 [==============================] - 1s 2ms/step - loss: 0.5879 - accuracy: 0.7654 - val_loss: 2.1727 - val_accuracy: 0.2500\n",
      "Epoch 95/150\n",
      "324/324 [==============================] - 0s 1ms/step - loss: 0.6191 - accuracy: 0.7716 - val_loss: 2.0785 - val_accuracy: 0.2778\n",
      "Epoch 96/150\n",
      "324/324 [==============================] - 0s 1ms/step - loss: 0.5641 - accuracy: 0.7994 - val_loss: 2.1007 - val_accuracy: 0.3056\n",
      "Epoch 97/150\n",
      "324/324 [==============================] - 0s 1ms/step - loss: 0.6313 - accuracy: 0.7315 - val_loss: 1.9468 - val_accuracy: 0.3056\n",
      "Epoch 98/150\n",
      "324/324 [==============================] - 0s 1ms/step - loss: 0.6326 - accuracy: 0.7562 - val_loss: 2.0305 - val_accuracy: 0.3333\n",
      "Epoch 99/150\n",
      "324/324 [==============================] - 0s 1ms/step - loss: 0.5265 - accuracy: 0.8086 - val_loss: 2.1245 - val_accuracy: 0.3056\n",
      "Epoch 100/150\n",
      "324/324 [==============================] - 0s 1ms/step - loss: 0.5012 - accuracy: 0.8025 - val_loss: 2.0606 - val_accuracy: 0.2778\n",
      "Epoch 101/150\n",
      "324/324 [==============================] - 0s 1ms/step - loss: 0.4853 - accuracy: 0.8056 - val_loss: 2.3177 - val_accuracy: 0.3333\n",
      "Epoch 102/150\n",
      "324/324 [==============================] - 1s 2ms/step - loss: 0.5355 - accuracy: 0.7716 - val_loss: 2.1305 - val_accuracy: 0.3611\n",
      "Epoch 103/150\n",
      "324/324 [==============================] - 0s 1ms/step - loss: 0.4738 - accuracy: 0.7994 - val_loss: 2.1368 - val_accuracy: 0.3056\n",
      "Epoch 104/150\n",
      "324/324 [==============================] - 0s 1ms/step - loss: 0.4899 - accuracy: 0.8117 - val_loss: 2.3374 - val_accuracy: 0.3056\n",
      "Epoch 105/150\n",
      "324/324 [==============================] - 0s 1ms/step - loss: 0.4926 - accuracy: 0.7994 - val_loss: 2.3002 - val_accuracy: 0.3056\n",
      "Epoch 106/150\n",
      "324/324 [==============================] - 0s 1ms/step - loss: 0.5242 - accuracy: 0.8056 - val_loss: 2.3076 - val_accuracy: 0.3333\n",
      "Epoch 107/150\n",
      "324/324 [==============================] - 1s 2ms/step - loss: 0.5389 - accuracy: 0.7840 - val_loss: 2.0818 - val_accuracy: 0.3333\n",
      "Epoch 108/150\n",
      "324/324 [==============================] - 0s 1ms/step - loss: 0.4727 - accuracy: 0.8272 - val_loss: 2.1453 - val_accuracy: 0.3611\n",
      "Epoch 109/150\n",
      "324/324 [==============================] - 1s 2ms/step - loss: 0.4763 - accuracy: 0.8302 - val_loss: 2.2363 - val_accuracy: 0.3611\n",
      "Epoch 110/150\n",
      "324/324 [==============================] - 0s 1ms/step - loss: 0.4873 - accuracy: 0.7932 - val_loss: 2.2185 - val_accuracy: 0.3333\n",
      "Epoch 111/150\n",
      "324/324 [==============================] - 0s 2ms/step - loss: 0.5008 - accuracy: 0.8056 - val_loss: 2.1934 - val_accuracy: 0.3056\n",
      "Epoch 112/150\n",
      "324/324 [==============================] - 0s 1ms/step - loss: 0.5236 - accuracy: 0.7901 - val_loss: 2.2087 - val_accuracy: 0.3611\n",
      "Epoch 113/150\n",
      "324/324 [==============================] - 0s 2ms/step - loss: 0.5167 - accuracy: 0.8179 - val_loss: 2.3459 - val_accuracy: 0.3611\n"
     ]
    },
    {
     "name": "stdout",
     "output_type": "stream",
     "text": [
      "Epoch 114/150\n",
      "324/324 [==============================] - 0s 1ms/step - loss: 0.5302 - accuracy: 0.7994 - val_loss: 2.2948 - val_accuracy: 0.3333\n",
      "Epoch 115/150\n",
      "324/324 [==============================] - 0s 1ms/step - loss: 0.5120 - accuracy: 0.8241 - val_loss: 2.2200 - val_accuracy: 0.3056\n",
      "Epoch 116/150\n",
      "324/324 [==============================] - 0s 1ms/step - loss: 0.4552 - accuracy: 0.8395 - val_loss: 2.1495 - val_accuracy: 0.3611\n",
      "Epoch 117/150\n",
      "324/324 [==============================] - 0s 1ms/step - loss: 0.4516 - accuracy: 0.8364 - val_loss: 2.1693 - val_accuracy: 0.3889\n",
      "Epoch 118/150\n",
      "324/324 [==============================] - 0s 1ms/step - loss: 0.4463 - accuracy: 0.8426 - val_loss: 2.2936 - val_accuracy: 0.3889\n",
      "Epoch 119/150\n",
      "324/324 [==============================] - 0s 1ms/step - loss: 0.4433 - accuracy: 0.8364 - val_loss: 2.3135 - val_accuracy: 0.3889\n",
      "Epoch 120/150\n",
      "324/324 [==============================] - 0s 1ms/step - loss: 0.4380 - accuracy: 0.8179 - val_loss: 2.3009 - val_accuracy: 0.3056\n",
      "Epoch 121/150\n",
      "324/324 [==============================] - 0s 1ms/step - loss: 0.4706 - accuracy: 0.8086 - val_loss: 2.4314 - val_accuracy: 0.3333\n",
      "Epoch 122/150\n",
      "324/324 [==============================] - 0s 1ms/step - loss: 0.5611 - accuracy: 0.8148 - val_loss: 2.5416 - val_accuracy: 0.2778\n",
      "Epoch 123/150\n",
      "324/324 [==============================] - 0s 1ms/step - loss: 0.4612 - accuracy: 0.8241 - val_loss: 2.5280 - val_accuracy: 0.3056\n",
      "Epoch 124/150\n",
      "324/324 [==============================] - 0s 1ms/step - loss: 0.4074 - accuracy: 0.8580 - val_loss: 2.5414 - val_accuracy: 0.3333\n",
      "Epoch 125/150\n",
      "324/324 [==============================] - 0s 1ms/step - loss: 0.4741 - accuracy: 0.8179 - val_loss: 2.3875 - val_accuracy: 0.3611\n",
      "Epoch 126/150\n",
      "324/324 [==============================] - 1s 2ms/step - loss: 0.5069 - accuracy: 0.8179 - val_loss: 2.3721 - val_accuracy: 0.3611\n",
      "Epoch 127/150\n",
      "324/324 [==============================] - 1s 2ms/step - loss: 0.4619 - accuracy: 0.8302 - val_loss: 2.3584 - val_accuracy: 0.3333\n",
      "Epoch 128/150\n",
      "324/324 [==============================] - 1s 2ms/step - loss: 0.4139 - accuracy: 0.8519 - val_loss: 2.3554 - val_accuracy: 0.3056\n",
      "Epoch 129/150\n",
      "324/324 [==============================] - 1s 2ms/step - loss: 0.4085 - accuracy: 0.8549 - val_loss: 2.4331 - val_accuracy: 0.3611\n",
      "Epoch 130/150\n",
      "324/324 [==============================] - 0s 1ms/step - loss: 0.4224 - accuracy: 0.8426 - val_loss: 2.4542 - val_accuracy: 0.3333\n",
      "Epoch 131/150\n",
      "324/324 [==============================] - 0s 2ms/step - loss: 0.4348 - accuracy: 0.8426 - val_loss: 2.3304 - val_accuracy: 0.3056\n",
      "Epoch 132/150\n",
      "324/324 [==============================] - 0s 2ms/step - loss: 0.4579 - accuracy: 0.8426 - val_loss: 2.4918 - val_accuracy: 0.3333\n",
      "Epoch 133/150\n",
      "324/324 [==============================] - 0s 1ms/step - loss: 0.4525 - accuracy: 0.8272 - val_loss: 2.3191 - val_accuracy: 0.3611\n",
      "Epoch 134/150\n",
      "324/324 [==============================] - 0s 1ms/step - loss: 0.3996 - accuracy: 0.8611 - val_loss: 2.3123 - val_accuracy: 0.3889\n",
      "Epoch 135/150\n",
      "324/324 [==============================] - 0s 1ms/step - loss: 0.3851 - accuracy: 0.8642 - val_loss: 2.4276 - val_accuracy: 0.3333\n",
      "Epoch 136/150\n",
      "324/324 [==============================] - 0s 1ms/step - loss: 0.3871 - accuracy: 0.8611 - val_loss: 2.6369 - val_accuracy: 0.3333\n",
      "Epoch 137/150\n",
      "324/324 [==============================] - 0s 1ms/step - loss: 0.4168 - accuracy: 0.8519 - val_loss: 2.6913 - val_accuracy: 0.2778\n",
      "Epoch 138/150\n",
      "324/324 [==============================] - 0s 1ms/step - loss: 0.4312 - accuracy: 0.8426 - val_loss: 2.6559 - val_accuracy: 0.3611\n",
      "Epoch 139/150\n",
      "324/324 [==============================] - 0s 1ms/step - loss: 0.4556 - accuracy: 0.8241 - val_loss: 2.6509 - val_accuracy: 0.3333\n",
      "Epoch 140/150\n",
      "324/324 [==============================] - 0s 1ms/step - loss: 0.4437 - accuracy: 0.8364 - val_loss: 2.8060 - val_accuracy: 0.2778\n",
      "Epoch 141/150\n",
      "324/324 [==============================] - 0s 1ms/step - loss: 0.3740 - accuracy: 0.8765 - val_loss: 2.8421 - val_accuracy: 0.3333\n",
      "Epoch 142/150\n",
      "324/324 [==============================] - 0s 1ms/step - loss: 0.3872 - accuracy: 0.8519 - val_loss: 2.7577 - val_accuracy: 0.3889\n",
      "Epoch 143/150\n",
      "324/324 [==============================] - 0s 1ms/step - loss: 0.3606 - accuracy: 0.8704 - val_loss: 2.7594 - val_accuracy: 0.3333\n",
      "Epoch 144/150\n",
      "324/324 [==============================] - 0s 1ms/step - loss: 0.3610 - accuracy: 0.8611 - val_loss: 2.9132 - val_accuracy: 0.3056\n",
      "Epoch 145/150\n",
      "324/324 [==============================] - 0s 1ms/step - loss: 0.3947 - accuracy: 0.8519 - val_loss: 2.8652 - val_accuracy: 0.3611\n",
      "Epoch 146/150\n",
      "324/324 [==============================] - 0s 1ms/step - loss: 0.3945 - accuracy: 0.8426 - val_loss: 2.8042 - val_accuracy: 0.3056\n",
      "Epoch 147/150\n",
      "324/324 [==============================] - 0s 1ms/step - loss: 0.3708 - accuracy: 0.8642 - val_loss: 2.7606 - val_accuracy: 0.3611\n",
      "Epoch 148/150\n",
      "324/324 [==============================] - 0s 1ms/step - loss: 0.3781 - accuracy: 0.8611 - val_loss: 2.6726 - val_accuracy: 0.3611\n",
      "Epoch 149/150\n",
      "324/324 [==============================] - 0s 1ms/step - loss: 0.3862 - accuracy: 0.8673 - val_loss: 2.5235 - val_accuracy: 0.3056\n",
      "Epoch 150/150\n",
      "324/324 [==============================] - 0s 1ms/step - loss: 0.3602 - accuracy: 0.8827 - val_loss: 2.7432 - val_accuracy: 0.3333\n"
     ]
    }
   ],
   "source": [
    "history=speechModel.fit(x = X_train,y = Y_train,validation_split=0.1,epochs =150 ,batch_size = 16)"
   ]
  },
  {
   "cell_type": "code",
   "execution_count": 16,
   "metadata": {},
   "outputs": [
    {
     "name": "stdout",
     "output_type": "stream",
     "text": [
      "120/120 [==============================] - 0s 248us/step\n",
      "\n",
      "Loss = 6.064053519566854\n",
      "Test Accuracy = 0.34166666865348816\n"
     ]
    }
   ],
   "source": [
    "predictions = speechModel.predict(X_test)\n",
    "preds = speechModel.evaluate(x = X_test,y = Y_test)\n",
    "print()\n",
    "print (\"Loss = \" + str(preds[0]))\n",
    "print (\"Test Accuracy = \" + str(preds[1]))"
   ]
  },
  {
   "cell_type": "code",
   "execution_count": 26,
   "metadata": {},
   "outputs": [
    {
     "name": "stdout",
     "output_type": "stream",
     "text": [
      "tf.Tensor(\n",
      "[[150  56  14  23   9   3]\n",
      " [  3 165   8  12  37  19]\n",
      " [ 13  56  67  54  22  16]\n",
      " [  4  34   9  88  58   0]\n",
      " [  0  22   5   4 151   0]\n",
      " [  3  95  16   2   8 108]], shape=(6, 6), dtype=int32)\n"
     ]
    }
   ],
   "source": [
    "#confusion_matrix = sklearn.metrics.confusion_matrix(Y_test, np.rint(predictions))\n",
    "conf_matrix = tf.math.confusion_matrix(labels=Y_test.argmax(axis=1),\n",
    "                                       predictions=predictions.argmax(axis=1))\n",
    "print(conf_matrix)"
   ]
  },
  {
   "cell_type": "code",
   "execution_count": 14,
   "metadata": {},
   "outputs": [
    {
     "name": "stdout",
     "output_type": "stream",
     "text": [
      "Model: \"sequential_1\"\n",
      "_________________________________________________________________\n",
      "Layer (type)                 Output Shape              Param #   \n",
      "=================================================================\n",
      "conv2d_1 (Conv2D)            (None, 32, 32, 128)       512       \n",
      "_________________________________________________________________\n",
      "activation_1 (Activation)    (None, 32, 32, 128)       0         \n",
      "_________________________________________________________________\n",
      "dropout_1 (Dropout)          (None, 32, 32, 128)       0         \n",
      "_________________________________________________________________\n",
      "max_pooling2d_1 (MaxPooling2 (None, 16, 16, 128)       0         \n",
      "_________________________________________________________________\n",
      "conv2d_2 (Conv2D)            (None, 16, 16, 128)       16512     \n",
      "_________________________________________________________________\n",
      "activation_2 (Activation)    (None, 16, 16, 128)       0         \n",
      "_________________________________________________________________\n",
      "dropout_2 (Dropout)          (None, 16, 16, 128)       0         \n",
      "_________________________________________________________________\n",
      "max_pooling2d_2 (MaxPooling2 (None, 8, 8, 128)         0         \n",
      "_________________________________________________________________\n",
      "conv2d_3 (Conv2D)            (None, 8, 8, 64)          8256      \n",
      "_________________________________________________________________\n",
      "activation_3 (Activation)    (None, 8, 8, 64)          0         \n",
      "_________________________________________________________________\n",
      "dropout_3 (Dropout)          (None, 8, 8, 64)          0         \n",
      "_________________________________________________________________\n",
      "max_pooling2d_3 (MaxPooling2 (None, 4, 4, 64)          0         \n",
      "_________________________________________________________________\n",
      "flatten_1 (Flatten)          (None, 1024)              0         \n",
      "_________________________________________________________________\n",
      "dense_1 (Dense)              (None, 32)                32800     \n",
      "_________________________________________________________________\n",
      "activation_4 (Activation)    (None, 32)                0         \n",
      "_________________________________________________________________\n",
      "dense_2 (Dense)              (None, 32)                1056      \n",
      "_________________________________________________________________\n",
      "activation_5 (Activation)    (None, 32)                0         \n",
      "_________________________________________________________________\n",
      "dropout_4 (Dropout)          (None, 32)                0         \n",
      "_________________________________________________________________\n",
      "dense_3 (Dense)              (None, 6)                 198       \n",
      "_________________________________________________________________\n",
      "activation_6 (Activation)    (None, 6)                 0         \n",
      "=================================================================\n",
      "Total params: 59,334\n",
      "Trainable params: 59,334\n",
      "Non-trainable params: 0\n",
      "_________________________________________________________________\n"
     ]
    }
   ],
   "source": [
    "speechModel.summary()"
   ]
  },
  {
   "cell_type": "code",
   "execution_count": 15,
   "metadata": {
    "scrolled": true
   },
   "outputs": [
    {
     "data": {
      "image/png": "[encoded data removed]",
      "text/plain": [
       "<Figure size 432x288 with 1 Axes>"
      ]
     },
     "metadata": {
      "needs_background": "light"
     },
     "output_type": "display_data"
    }
   ],
   "source": [
    "plt.plot(history.history['accuracy'])\n",
    "plt.plot(history.history['val_accuracy'])\n",
    "plt.title('model accuracy')\n",
    "plt.ylabel('accuracy')\n",
    "plt.xlabel('epoch')\n",
    "plt.legend(['train', 'val'], loc='upper left')\n",
    "plt.show()"
   ]
  },
  {
   "cell_type": "code",
   "execution_count": 13,
   "metadata": {},
   "outputs": [
    {
     "data": {
      "image/png": "[encoded data removed]",
      "text/plain": [
       "<Figure size 432x288 with 1 Axes>"
      ]
     },
     "metadata": {
      "needs_background": "light"
     },
     "output_type": "display_data"
    }
   ],
   "source": [
    "plt.plot(history.history['loss'])\n",
    "plt.plot(history.history['val_loss'])\n",
    "plt.title('model loss')\n",
    "plt.ylabel('loss')\n",
    "plt.xlabel('epoch')\n",
    "plt.legend(['train', 'val'], loc='upper left')\n",
    "plt.show()"
   ]
  },
  {
   "cell_type": "code",
   "execution_count": null,
   "metadata": {},
   "outputs": [],
   "source": []
  },
  {
   "cell_type": "code",
   "execution_count": null,
   "metadata": {},
   "outputs": [],
   "source": []
  },
  {
   "cell_type": "code",
   "execution_count": null,
   "metadata": {},
   "outputs": [],
   "source": []
  },
  {
   "cell_type": "code",
   "execution_count": null,
   "metadata": {},
   "outputs": [],
   "source": []
  }
 ],
 "metadata": {
  "kernelspec": {
   "display_name": "Python 3",
   "language": "python",
   "name": "python3"
  },
  "language_info": {
   "codemirror_mode": {
    "name": "ipython",
    "version": 3
   },
   "file_extension": ".py",
   "mimetype": "text/x-python",
   "name": "python",
   "nbconvert_exporter": "python",
   "pygments_lexer": "ipython3",
   "version": "3.7.16"
  }
 },
 "nbformat": 4,
 "nbformat_minor": 2
}
